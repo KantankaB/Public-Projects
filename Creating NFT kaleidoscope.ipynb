{
 "cells": [
  {
   "cell_type": "code",
   "execution_count": 71,
   "metadata": {},
   "outputs": [],
   "source": [
    "import os"
   ]
  },
  {
   "cell_type": "code",
   "execution_count": 72,
   "metadata": {},
   "outputs": [
    {
     "name": "stdout",
     "output_type": "stream",
     "text": [
      "(4288, 2848)\n"
     ]
    }
   ],
   "source": [
    "from PIL import Image\n",
    "im=Image.open('C:\\\\Users\\\\brian\\\\Images for manipulation\\\\Roomba0.jpg')\n",
    "width, height=im.size\n",
    "cropImg=im.crop((0,0,width/2,width/2))\n",
    "outfile=\"test.jpg\"\n",
    "cropImg.show()\n",
    "im.show()\n",
    "print(im.size)"
   ]
  },
  {
   "cell_type": "code",
   "execution_count": 73,
   "metadata": {},
   "outputs": [
    {
     "data": {
      "text/plain": [
       "(2144, 2144)"
      ]
     },
     "execution_count": 73,
     "metadata": {},
     "output_type": "execute_result"
    }
   ],
   "source": [
    "cropImg.size"
   ]
  },
  {
   "cell_type": "code",
   "execution_count": 74,
   "metadata": {},
   "outputs": [
    {
     "name": "stdout",
     "output_type": "stream",
     "text": [
      "(4288, 2848)\n"
     ]
    }
   ],
   "source": [
    "def takeOneEighth(pic):\n",
    "    (width,height)=pic.size\n",
    "    background = Image.new('RGB', (width*2,width*2), (255, 255, 255))\n",
    "    for x in range(width):\n",
    "        for y in range(x):\n",
    "            pix=pic.getpixel((x,y))\n",
    "            background.putpixel((x,y),pix)\n",
    "            background.putpixel((y,x),pix)\n",
    "    return background\n",
    "oneEightPhoto=takeOneEighth(cropImg)\n",
    "oneEightPhoto.show()\n",
    "print(im.size)"
   ]
  },
  {
   "cell_type": "code",
   "execution_count": 75,
   "metadata": {},
   "outputs": [],
   "source": [
    "def flip2(pic):\n",
    "    (width, height) = pic.size\n",
    "    background = pic.copy()\n",
    "    for x in range( width):\n",
    "        for y in range( height):\n",
    "            pix = background.getpixel((x, y))\n",
    "            background.putpixel((width-1 -x, y),pix)\n",
    "    return background\n",
    "upperHalf=flip2(oneEightPhoto)\n",
    "upperHalf.show()"
   ]
  },
  {
   "cell_type": "code",
   "execution_count": 76,
   "metadata": {},
   "outputs": [],
   "source": [
    ">>> def flip4(pic):\n",
    "\t(width, height) = pic.size\n",
    "\tbackground = pic.copy()\n",
    "\tfor x in range( width):\n",
    "\t\tfor y in range( height):\n",
    "\t\t\tpix = background.getpixel((x, y))\n",
    "\t\t\tbackground.putpixel((x,height-1 -y),pix)\n",
    "\treturn background\n",
    "\n",
    ">>> fullImage=flip4(upperHalf)\n",
    ">>> fullImage.show()"
   ]
  },
  {
   "cell_type": "code",
   "execution_count": 77,
   "metadata": {},
   "outputs": [],
   "source": [
    "fullImage.save(r'C:\\\\Users\\\\brian\\\\Images for manipulation\\\\test.png')"
   ]
  },
  {
   "cell_type": "code",
   "execution_count": null,
   "metadata": {},
   "outputs": [],
   "source": []
  }
 ],
 "metadata": {
  "kernelspec": {
   "display_name": "Python 3 (ipykernel)",
   "language": "python",
   "name": "python3"
  },
  "language_info": {
   "codemirror_mode": {
    "name": "ipython",
    "version": 3
   },
   "file_extension": ".py",
   "mimetype": "text/x-python",
   "name": "python",
   "nbconvert_exporter": "python",
   "pygments_lexer": "ipython3",
   "version": "3.9.12"
  }
 },
 "nbformat": 4,
 "nbformat_minor": 4
}
